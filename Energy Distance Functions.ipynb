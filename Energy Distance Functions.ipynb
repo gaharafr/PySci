{
 "cells": [
  {
   "cell_type": "markdown",
   "metadata": {},
   "source": [
    "These should ideally be integrated into one function, but for now they're broken up in an ugly fashion:\n",
    "\n",
    "### Final value function:"
   ]
  },
  {
   "cell_type": "code",
   "execution_count": 2,
   "metadata": {},
   "outputs": [],
   "source": [
    "# this is probably inefficient, but I'm not sure whether mere \n",
    "# variable assignment is better\n",
    "def get_final_values(A, B):\n",
    "    \"\"\"\n",
    "    inputs:\n",
    "    \"\"\"\n",
    "    for arrays in A, B:\n",
    "        print(arrays)\n",
    "        x = np.stack(A)\n",
    "        y = np.stack(B)\n",
    "        \n",
    "        # get the final values from A\n",
    "        A_final_val = []\n",
    "        A_final_val.append(x[:,-1])\n",
    "        \n",
    "        # get the final values from B\n",
    "        B_final_val = []\n",
    "        B_final_val.append(y[:,-1])\n",
    "\n",
    "        return A_final_val, B_final_val"
   ]
  },
  {
   "cell_type": "markdown",
   "metadata": {},
   "source": [
    "### Scan function:"
   ]
  },
  {
   "cell_type": "code",
   "execution_count": 39,
   "metadata": {},
   "outputs": [],
   "source": [
    "def scan(final_vals, conditions): \n",
    "    \"\"\"\n",
    "    inputs: \n",
    "    \"\"\"\n",
    "    #fv = np.asarray(final_vals)\n",
    "    #fv = fv.ravel()\n",
    "    cond = np.asarray(conditions)\n",
    "    cond = cond.ravel()\n",
    "    #print(cond)\n",
    "    #print(fv)\n",
    "    \n",
    "    for arrays in conditions:\n",
    "        for values in arrays:\n",
    "            a = distance(final_vals, conditions)\n",
    "    return a"
   ]
  },
  {
   "cell_type": "markdown",
   "metadata": {},
   "source": [
    "### Min Function:"
   ]
  },
  {
   "cell_type": "code",
   "execution_count": null,
   "metadata": {},
   "outputs": [],
   "source": []
  },
  {
   "cell_type": "markdown",
   "metadata": {},
   "source": [
    "#### Test: "
   ]
  },
  {
   "cell_type": "code",
   "execution_count": 61,
   "metadata": {},
   "outputs": [
    {
     "name": "stdout",
     "output_type": "stream",
     "text": [
      "[array([0.25378713, 0.8838425 , 0.87709244, 0.38746759, 0.40731415,\n",
      "       0.83047483, 0.98426859, 0.89431814, 0.63963662, 0.17901074]), array([0.36932281, 0.54934021, 0.26629188, 0.53763719, 0.45891232,\n",
      "       0.32617194, 0.00423877, 0.18194479, 0.18629896, 0.76150412]), array([0.84408457, 0.64249812, 0.20162088, 0.49796732, 0.73071806,\n",
      "       0.56747473, 0.14172309, 0.78600274, 0.54934036, 0.79591124])]\n"
     ]
    }
   ],
   "source": [
    "import numpy as np\n",
    "import copy\n",
    "\n",
    "a = np.random.rand(10)\n",
    "b = np.random.rand(10)\n",
    "c = np.random.rand(10)\n",
    "d = np.random.rand(10)\n",
    "e = np.random.rand(10)\n",
    "f = np.random.rand(10)\n",
    "Data = [[a, b, c], [d, e, f]]\n",
    "\n",
    "C1 = Data[0]\n",
    "C2 = Data[1]"
   ]
  },
  {
   "cell_type": "code",
   "execution_count": 33,
   "metadata": {},
   "outputs": [
    {
     "name": "stdout",
     "output_type": "stream",
     "text": [
      "[array([0.09265311, 0.94194784, 0.68215597, 0.44654426, 0.96186802,\n",
      "       0.81161218, 0.60502895, 0.91155751, 0.27280867, 0.98776403]), array([0.64923302, 0.85939804, 0.49484797, 0.96570149, 0.98232028,\n",
      "       0.86780218, 0.56037237, 0.69536066, 0.48736106, 0.03080513]), array([0.02984215, 0.54132732, 0.54067115, 0.48482013, 0.68381458,\n",
      "       0.04637837, 0.00558555, 0.25766998, 0.17059131, 0.62581122])]\n",
      "Condition 1 final values: [array([0.98776403, 0.03080513, 0.62581122])]\n",
      "Condition 2 final values: [array([0.00464532, 0.30240498, 0.28558224])]\n"
     ]
    }
   ],
   "source": [
    "# because there are three arrays in each condition, this gives three values\n",
    "fv = get_final_values(C1, C2)\n",
    "print(\"Condition 1 final values:\", fv[0])\n",
    "print(\"Condition 2 final values:\", fv[1])"
   ]
  },
  {
   "cell_type": "code",
   "execution_count": 77,
   "metadata": {},
   "outputs": [
    {
     "name": "stdout",
     "output_type": "stream",
     "text": [
      "[[0.7339769  0.10392153 0.11067159]\n",
      " [0.60029645 0.58044988 0.1572892 ]\n",
      " [0.00349544 0.09344589 0.34812742]\n",
      " [0.8087533  0.61844122 0.43842382]\n",
      " [0.72147215 0.45012685 0.52885171]\n",
      " [0.6615921  0.98352527 0.80581924]\n",
      " [0.80146507 0.22625991 0.14367947]\n",
      " [0.34526591 0.78614316 0.48979671]\n",
      " [0.25704597 0.4202893  0.84604095]\n",
      " [0.20176129 0.43842367 0.19185279]] \n",
      "\n",
      "[[0.7339769  0.10392153 0.11067159 0.60029645 0.58044988 0.1572892\n",
      "  0.00349544 0.09344589 0.34812742 0.8087533 ]\n",
      " [0.61844122 0.43842382 0.72147215 0.45012685 0.52885171 0.6615921\n",
      "  0.98352527 0.80581924 0.80146507 0.22625991]\n",
      " [0.14367947 0.34526591 0.78614316 0.48979671 0.25704597 0.4202893\n",
      "  0.84604095 0.20176129 0.43842367 0.19185279]]\n"
     ]
    }
   ],
   "source": [
    "# perform scan with dummy distance function:\n",
    "def distance(x, y):\n",
    "    x = np.asarray(x)\n",
    "    y = np.asarray(y)\n",
    "    return x - y\n",
    "\n",
    "# take the condition 1 final values and turn multidim array into 1D\n",
    "fv = np.asarray(fv[0])\n",
    "fv = fv.ravel()\n",
    "\n",
    "# here's where I get into trouble:\n",
    "# I have to reshape the conditions that will be scanned by hand. \n",
    "C2 = np.asarray(C2)\n",
    "C2 = C2.reshape(10, 3)\n",
    "\n",
    "# hold fixed the condition 1 final values and evaluate the distance between \n",
    "# it and condition two\n",
    "dist_values = scan(fv, C2)\n",
    "print(dist_values, \"\\n\")\n",
    "\n",
    "dist_values = dist_values.reshape(3, 10)\n",
    "print(dist_values)"
   ]
  },
  {
   "cell_type": "code",
   "execution_count": null,
   "metadata": {},
   "outputs": [],
   "source": []
  }
 ],
 "metadata": {
  "kernelspec": {
   "display_name": "Python 3",
   "language": "python",
   "name": "python3"
  },
  "language_info": {
   "codemirror_mode": {
    "name": "ipython",
    "version": 3
   },
   "file_extension": ".py",
   "mimetype": "text/x-python",
   "name": "python",
   "nbconvert_exporter": "python",
   "pygments_lexer": "ipython3",
   "version": "3.6.4"
  }
 },
 "nbformat": 4,
 "nbformat_minor": 2
}
